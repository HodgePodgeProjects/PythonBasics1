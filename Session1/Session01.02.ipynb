{
  "cells": [
    {
      "cell_type": "markdown",
      "metadata": {},
      "source": [
        "# Lesson 01.02: Introduction to Python and Programming\n"
      ]
    },
    {
      "cell_type": "markdown",
      "metadata": {},
      "source": [
        "### Objective:\n",
        "Students will be able to:\n",
        "- describe what Python is\n",
        "- list real-world python applications\n",
        "- explain why Python is important to learn"
      ]
    },
    {
      "cell_type": "markdown",
      "metadata": {},
      "source": [
        "### 1. What is Python?\n",
        "\n",
        "Python is a **versatile**, **high-level programming language** known for its **simplicity** and **readability**.\n",
        "\n",
        "- It is widely used for various applications, including **web development**, **data science**, **automation**, and **artificial intelligence (AI)**.\n",
        "- Python is considered one of the easiest languages to start with due to its intuitive syntax.\n"
      ]
    },
    {
      "cell_type": "code",
      "execution_count": null,
      "metadata": {},
      "outputs": [],
      "source": [
        "# Example Python code to demonstrate its simplicity:\n",
        "print(\"Hello, World!\")\n"
      ]
    },
    {
      "cell_type": "markdown",
      "metadata": {},
      "source": [
        "### 2. Why Learn Python?\n",
        "\n",
        "Python is **easy to learn** for beginners and powerful enough for professionals.\n",
        "\n",
        "Some reasons to learn Python include:\n",
        "\n",
        "- Its **simple syntax** makes it ideal for first-time coders.\n",
        "- Python has a **large and supportive community** with many tutorials, forums, and libraries available.\n",
        "- It is used in a wide variety of **fields**: web development, data analysis, AI, machine learning, automation, game development, and more.\n",
        "- Python's **cross-platform compatibility** allows it to run on multiple systems, such as Windows, macOS, and Linux.\n"
      ]
    },
    {
      "cell_type": "markdown",
      "metadata": {},
      "source": [
        "### 3. Real-World Applications of Python\n",
        "\n",
        "Here are some of the most common **real-world applications** of Python:\n",
        "\n",
        "1. **Web Development**: Python can be used to build websites and web applications with frameworks like **Django** and **Flask**.\n",
        "2. **Data Analysis and Visualization**: With libraries like **Pandas** and **NumPy**, Python is widely used for analyzing data.\n",
        "3. **AI & Machine Learning**: Python is the go-to language for artificial intelligence and machine learning with frameworks such as **TensorFlow** and **PyTorch**.\n",
        "4. **Automation and Scripting**: Python scripts can automate repetitive tasks, such as file management, web scraping, and testing.\n"
      ]
    },
    {
      "cell_type": "markdown",
      "metadata": {},
      "source": [
        "### Example: Web Development with Flask\n",
        "\n",
        "Flask is a **micro web framework** that allows you to build small to medium-sized web applications quickly.\n",
        "\n",
        "Below is an example of a simple web server using Flask:"
      ]
    },
    {
      "cell_type": "code",
      "execution_count": null,
      "metadata": {},
      "outputs": [],
      "source": [
        "# Example of a simple Flask web server:\n",
        "from flask import Flask\n",
        "app = Flask(__name__)\n",
        "\n",
        "@app.route('/')\n",
        "def hello_world():\n",
        "    return 'Hello, World!'\n",
        "\n",
        "if __name__ == '__main__':\n",
        "    app.run()\n",
        "\n",
        "# This code creates a basic web server that returns 'Hello, World!' when visited."
      ]
    },
    {
      "cell_type": "markdown",
      "metadata": {},
      "source": [
        "```python\n",
        "# Example of a simple Flask web server:\n",
        "from flask import Flask\n",
        "app = Flask(__name__)\n",
        "\n",
        "@app.route('/')\n",
        "def hello_world():\n",
        "    return 'Hello, World!'\n",
        "\n",
        "if __name__ == '__main__':\n",
        "    app.run()\n",
        "\n",
        "# This code creates a basic web server that returns 'Hello, World!' when visited.\n",
        "```"
      ]
    },
    {
      "cell_type": "markdown",
      "metadata": {},
      "source": [
        "### Example: Data Analysis with Pandas\n",
        "\n",
        "Pandas is a popular Python library used for **data manipulation and analysis**. Below is an example of how to use it to analyze data."
      ]
    },
    {
      "cell_type": "code",
      "execution_count": null,
      "metadata": {},
      "outputs": [],
      "source": [
        "# Import the Pandas library\n",
        "import pandas as pd\n",
        "\n",
        "# Example dataset\n",
        "data = {'Name': ['John', 'Anna', 'Peter', 'Linda'],\n",
        "        'Age': [28, 24, 35, 32],\n",
        "        'Occupation': ['Engineer', 'Doctor', 'Artist', 'Lawyer']}\n",
        "\n",
        "# Create a DataFrame\n",
        "df = pd.DataFrame(data)\n",
        "\n",
        "# Display the data\n",
        "df"
      ]
    },
    {
      "cell_type": "markdown",
      "metadata": {},
      "source": [
        "### Example: Machine Learning with TensorFlow\n",
        "\n",
        "TensorFlow is an open-source machine learning framework. Below is a simple demonstration of how it can be used to build a machine learning model."
      ]
    },
    {
      "cell_type": "code",
      "execution_count": null,
      "metadata": {},
      "outputs": [],
      "source": [
        "# Install TensorFlow if not already installed\n",
        "# !pip install tensorflow\n",
        "\n",
        "# Import necessary libraries\n",
        "import tensorflow as tf\n",
        "import numpy as np\n",
        "\n",
        "# Example: Define a simple machine learning model\n",
        "model = tf.keras.Sequential([\n",
        "    tf.keras.layers.Input(shape=[1]),  # Adjust input layer\n",
        "    tf.keras.layers.Dense(units=1)\n",
        "])\n",
        "\n",
        "# Compile the model\n",
        "model.compile(optimizer='sgd', loss='mean_squared_error')\n",
        "\n",
        "# Example training data\n",
        "xs = np.array([1.0, 2.0, 3.0, 4.0, 5.0])\n",
        "ys = np.array([2.0, 4.0, 6.0, 8.0, 10.0])\n",
        "\n",
        "# Train the model\n",
        "model.fit(xs, ys, epochs=100)\n",
        "\n",
        "# Predict the output for a new value\n",
        "new_value = np.array([10.0])  # Convert to NumPy array\n",
        "print(model.predict(new_value))\n",
        "# The model should predict a value close to 10 (as the relationship learned is y = 2x)\n"
      ]
    },
    {
      "cell_type": "markdown",
      "metadata": {},
      "source": [
        "## Conclusion:\n",
        "In this introduction, we learned what Python is, why it's an important programming language to learn, and explored some of its real-world applications in web development, data science, AI, and automation. Python's versatility and ease of use make it a great choice for anyone starting out in programming."
      ]
    },
    {
      "cell_type": "markdown",
      "metadata": {},
      "source": [
        "[Continue to Session 01.03](http://colab.research.google.com/github/HodgePodgeProjects/PythonBasics1/blob/main/Session1/Session01.03.ipynb)"
      ]
    }
  ],
  "metadata": {
    "kernelspec": {
      "display_name": "Python 3",
      "language": "python",
      "name": "python3"
    },
    "language_info": {
      "codemirror_mode": {
        "name": "ipython",
        "version": 3
      },
      "file_extension": ".py",
      "mimetype": "text/x-python",
      "name": "python",
      "nbconvert_exporter": "python",
      "version": "3.8.5"
    }
  },
  "nbformat": 4,
  "nbformat_minor": 4
}
