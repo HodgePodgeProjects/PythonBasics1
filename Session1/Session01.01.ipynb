{
 "cells": [
  {
   "cell_type": "markdown",
   "metadata": {},
   "source": [
    "# Lesson 01.01: Setting Up Jupyter Notebooks\n",
    "\n"
   ]
  },
  {
   "cell_type": "markdown",
   "metadata": {},
   "source": [
    "## Objective:\n",
    "Students will be able to access and run Jupyter Notebooks online, specifically using Google Colab.\n",
    "\n",
    "### 1. Introduction to Jupyter Notebooks\n",
    "\n",
    "Jupyter Notebooks are a fantastic tool for writing and running Python code. We'll use **Google Colab** as an online Jupyter Notebook environment. \n",
    "\n",
    "\n",
    "### 2. Basic Layout of Jupyter Notebooks\n",
    "\n",
    "#### 2.1 Markdown Cells:\n",
    "Markdown cells are used to add descriptions, instructions, or formatted text (like this).\n",
    "\n",
    "\n",
    "#### 2.2 Code Cells:\n",
    "Code cells are where you write and run Python code. Here’s an example of a simple Python code:\n",
    "\n",
    "```python\n",
    "# Example code: Adding two numbers\n",
    "a = 5\n",
    "b = 10\n",
    "print(a + b)\n",
    "```\n",
    "\n",
    "To **run** code, click the \"Run\" (play) button to the left of the code, or press `Shift + Enter` while your curser is in the code cell.\n",
    "\n",
    "## Practice Exercise\n",
    "### Task:\n",
    "\n",
    "1. Write your first Python code that prints \"Hello, Jupyter!\" in a **code cell**.\n",
    "\n",
    "#### Example Code:\n",
    "```python\n",
    "# First Python code in Jupyter\n",
    "print(\"Hello, Jupyter!\")\n",
    "```\n",
    "\n",
    "\n",
    "##### The first time you run code in a notebook, it has the following warning:\n",
    "Warning: This notebook was not authored by Google - Go ahead and click **Run anyway**\n",
    "It can take a few seconds to run"
   ]
  },
  {
   "cell_type": "code",
   "execution_count": null,
   "metadata": {},
   "outputs": [],
   "source": [
    "# First Python code in Jupyter\n",
    "# Type your code in this box and run it\n",
    "\n",
    "\n"
   ]
  },
  {
   "cell_type": "markdown",
   "metadata": {},
   "source": [
    "Congratulations! You've ran your first Jupyter Notebook and written your first piece of Python code. 🎉\n",
    "\n",
    "[Continue to Session 01-02](http://colab.research.google.com/github/HodgePodgeProjects/PythonBasics1/blob/main/Session1/Session01.02.ipynb)"
   ]
  }
 ],
 "metadata": {
  "kernelspec": {
   "display_name": "Python 3",
   "language": "python",
   "name": "python3"
  },
  "language_info": {
   "name": "python",
   "version": "3.12.0"
  }
 },
 "nbformat": 4,
 "nbformat_minor": 4
}
